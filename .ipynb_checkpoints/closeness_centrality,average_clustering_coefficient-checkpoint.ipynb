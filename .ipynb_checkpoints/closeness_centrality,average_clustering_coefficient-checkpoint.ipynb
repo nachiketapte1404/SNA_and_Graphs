{
 "cells": [
  {
   "cell_type": "code",
   "execution_count": 7,
   "metadata": {},
   "outputs": [],
   "source": [
    "import pandas as pd\n",
    "import networkx as nx"
   ]
  },
  {
   "cell_type": "code",
   "execution_count": 8,
   "metadata": {},
   "outputs": [],
   "source": [
    "def load_adjacency_list(csv_file):\n",
    "    # Read the CSV file into a pandas DataFrame\n",
    "    df = pd.read_csv(csv_file)\n",
    "    # Convert the DataFrame to a list of tuples\n",
    "    edges = [tuple(x) for x in df.values]\n",
    "    return edges"
   ]
  },
  {
   "cell_type": "code",
   "execution_count": 9,
   "metadata": {},
   "outputs": [],
   "source": [
    "def create_graph_from_adj_list(edges):\n",
    "    # Create a NetworkX graph from the adjacency list\n",
    "    G = nx.Graph()\n",
    "    G.add_edges_from(edges)\n",
    "    return G"
   ]
  },
  {
   "cell_type": "code",
   "execution_count": 10,
   "metadata": {},
   "outputs": [],
   "source": [
    "def calculate_closeness_centrality(G):\n",
    "    return nx.closeness_centrality(G)"
   ]
  },
  {
   "cell_type": "code",
   "execution_count": 11,
   "metadata": {},
   "outputs": [],
   "source": [
    "def calculate_average_clustering_coefficient(G):\n",
    "    return nx.average_clustering(G)\n"
   ]
  },
  {
   "cell_type": "code",
   "execution_count": null,
   "metadata": {},
   "outputs": [],
   "source": [
    "csv_file = \"roads-usroads\\\\edges.csv\"\n",
    "edges = load_adjacency_list(csv_file)\n",
    "G = create_graph_from_adj_list(edges)\n",
    "\n",
    "# Calculate closeness centrality\n",
    "closeness_centrality = calculate_closeness_centrality(G)\n",
    "print(\"Closeness Centrality:\", closeness_centrality)\n",
    "    \n",
    "# Calculate average clustering coefficient\n",
    "avg_clustering = calculate_average_clustering_coefficient(G)\n",
    "print(\"Average Clustering Coefficient:\", avg_clustering)\n"
   ]
  }
 ],
 "metadata": {
  "kernelspec": {
   "display_name": "base",
   "language": "python",
   "name": "python3"
  },
  "language_info": {
   "codemirror_mode": {
    "name": "ipython",
    "version": 3
   },
   "file_extension": ".py",
   "mimetype": "text/x-python",
   "name": "python",
   "nbconvert_exporter": "python",
   "pygments_lexer": "ipython3",
   "version": "3.12.3"
  }
 },
 "nbformat": 4,
 "nbformat_minor": 2
}
