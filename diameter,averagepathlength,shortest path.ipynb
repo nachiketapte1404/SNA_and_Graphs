{
 "cells": [
  {
   "cell_type": "markdown",
   "id": "84c3d8e4-2b06-4225-8c66-cfffd6e751b2",
   "metadata": {},
   "source": [
    "# Installing Dependecies"
   ]
  },
  {
   "cell_type": "code",
   "execution_count": 1,
   "id": "0e05e1a0-3bae-4fa7-a61e-ad1dd4281128",
   "metadata": {},
   "outputs": [
    {
     "name": "stdout",
     "output_type": "stream",
     "text": [
      "Defaulting to user installation because normal site-packages is not writeable\n",
      "Requirement already satisfied: pandas in /home/ayush/.local/lib/python3.13/site-packages (2.2.3)\n",
      "Requirement already satisfied: numpy>=1.26.0 in /home/ayush/.local/lib/python3.13/site-packages (from pandas) (2.1.2)\n",
      "Requirement already satisfied: python-dateutil>=2.8.2 in /usr/lib/python3.13/site-packages (from pandas) (2.8.2)\n",
      "Requirement already satisfied: pytz>=2020.1 in /home/ayush/.local/lib/python3.13/site-packages (from pandas) (2024.2)\n",
      "Requirement already satisfied: tzdata>=2022.7 in /home/ayush/.local/lib/python3.13/site-packages (from pandas) (2024.2)\n",
      "Requirement already satisfied: six>=1.5 in /usr/lib/python3.13/site-packages (from python-dateutil>=2.8.2->pandas) (1.16.0)\n",
      "Defaulting to user installation because normal site-packages is not writeable\n",
      "Requirement already satisfied: networkx in /home/ayush/.local/lib/python3.13/site-packages (3.4.2)\n",
      "Defaulting to user installation because normal site-packages is not writeable\n",
      "Requirement already satisfied: matplotlib in /home/ayush/.local/lib/python3.13/site-packages (3.9.2)\n",
      "Requirement already satisfied: contourpy>=1.0.1 in /home/ayush/.local/lib/python3.13/site-packages (from matplotlib) (1.3.0)\n",
      "Requirement already satisfied: cycler>=0.10 in /home/ayush/.local/lib/python3.13/site-packages (from matplotlib) (0.12.1)\n",
      "Requirement already satisfied: fonttools>=4.22.0 in /home/ayush/.local/lib/python3.13/site-packages (from matplotlib) (4.54.1)\n",
      "Requirement already satisfied: kiwisolver>=1.3.1 in /home/ayush/.local/lib/python3.13/site-packages (from matplotlib) (1.4.7)\n",
      "Requirement already satisfied: numpy>=1.23 in /home/ayush/.local/lib/python3.13/site-packages (from matplotlib) (2.1.2)\n",
      "Requirement already satisfied: packaging>=20.0 in /usr/lib/python3.13/site-packages (from matplotlib) (24.1)\n",
      "Requirement already satisfied: pillow>=8 in /usr/lib64/python3.13/site-packages (from matplotlib) (11.0.0)\n",
      "Requirement already satisfied: pyparsing>=2.3.1 in /home/ayush/.local/lib/python3.13/site-packages (from matplotlib) (3.2.0)\n",
      "Requirement already satisfied: python-dateutil>=2.7 in /usr/lib/python3.13/site-packages (from matplotlib) (2.8.2)\n",
      "Requirement already satisfied: six>=1.5 in /usr/lib/python3.13/site-packages (from python-dateutil>=2.7->matplotlib) (1.16.0)\n",
      "Defaulting to user installation because normal site-packages is not writeable\n",
      "Requirement already satisfied: scipy in /home/ayush/.local/lib/python3.13/site-packages (1.14.1)\n",
      "Requirement already satisfied: numpy<2.3,>=1.23.5 in /home/ayush/.local/lib/python3.13/site-packages (from scipy) (2.1.2)\n",
      "Defaulting to user installation because normal site-packages is not writeable\n",
      "Requirement already satisfied: dash_bootstrap_components in /home/ayush/.local/lib/python3.13/site-packages (1.6.0)\n",
      "Requirement already satisfied: dash>=2.0.0 in /home/ayush/.local/lib/python3.13/site-packages (from dash_bootstrap_components) (2.18.2)\n",
      "Requirement already satisfied: Flask<3.1,>=1.0.4 in /home/ayush/.local/lib/python3.13/site-packages (from dash>=2.0.0->dash_bootstrap_components) (3.0.3)\n",
      "Requirement already satisfied: Werkzeug<3.1 in /home/ayush/.local/lib/python3.13/site-packages (from dash>=2.0.0->dash_bootstrap_components) (3.0.6)\n",
      "Requirement already satisfied: plotly>=5.0.0 in /home/ayush/.local/lib/python3.13/site-packages (from dash>=2.0.0->dash_bootstrap_components) (5.24.1)\n",
      "Requirement already satisfied: dash-html-components==2.0.0 in /home/ayush/.local/lib/python3.13/site-packages (from dash>=2.0.0->dash_bootstrap_components) (2.0.0)\n",
      "Requirement already satisfied: dash-core-components==2.0.0 in /home/ayush/.local/lib/python3.13/site-packages (from dash>=2.0.0->dash_bootstrap_components) (2.0.0)\n",
      "Requirement already satisfied: dash-table==5.0.0 in /home/ayush/.local/lib/python3.13/site-packages (from dash>=2.0.0->dash_bootstrap_components) (5.0.0)\n",
      "Requirement already satisfied: importlib-metadata in /home/ayush/.local/lib/python3.13/site-packages (from dash>=2.0.0->dash_bootstrap_components) (8.5.0)\n",
      "Requirement already satisfied: typing-extensions>=4.1.1 in /home/ayush/.local/lib/python3.13/site-packages (from dash>=2.0.0->dash_bootstrap_components) (4.12.2)\n",
      "Requirement already satisfied: requests in /usr/lib/python3.13/site-packages (from dash>=2.0.0->dash_bootstrap_components) (2.32.3)\n",
      "Requirement already satisfied: retrying in /home/ayush/.local/lib/python3.13/site-packages (from dash>=2.0.0->dash_bootstrap_components) (1.3.4)\n",
      "Requirement already satisfied: nest-asyncio in /home/ayush/.local/lib/python3.13/site-packages (from dash>=2.0.0->dash_bootstrap_components) (1.6.0)\n",
      "Requirement already satisfied: setuptools in /usr/lib/python3.13/site-packages (from dash>=2.0.0->dash_bootstrap_components) (69.2.0)\n",
      "Requirement already satisfied: Jinja2>=3.1.2 in /home/ayush/.local/lib/python3.13/site-packages (from Flask<3.1,>=1.0.4->dash>=2.0.0->dash_bootstrap_components) (3.1.4)\n",
      "Requirement already satisfied: itsdangerous>=2.1.2 in /home/ayush/.local/lib/python3.13/site-packages (from Flask<3.1,>=1.0.4->dash>=2.0.0->dash_bootstrap_components) (2.2.0)\n",
      "Requirement already satisfied: click>=8.1.3 in /usr/lib/python3.13/site-packages (from Flask<3.1,>=1.0.4->dash>=2.0.0->dash_bootstrap_components) (8.1.7)\n",
      "Requirement already satisfied: blinker>=1.6.2 in /home/ayush/.local/lib/python3.13/site-packages (from Flask<3.1,>=1.0.4->dash>=2.0.0->dash_bootstrap_components) (1.8.2)\n",
      "Requirement already satisfied: tenacity>=6.2.0 in /home/ayush/.local/lib/python3.13/site-packages (from plotly>=5.0.0->dash>=2.0.0->dash_bootstrap_components) (9.0.0)\n",
      "Requirement already satisfied: packaging in /usr/lib/python3.13/site-packages (from plotly>=5.0.0->dash>=2.0.0->dash_bootstrap_components) (24.1)\n",
      "Requirement already satisfied: MarkupSafe>=2.1.1 in /usr/lib64/python3.13/site-packages (from Werkzeug<3.1->dash>=2.0.0->dash_bootstrap_components) (2.1.5)\n",
      "Requirement already satisfied: zipp>=3.20 in /home/ayush/.local/lib/python3.13/site-packages (from importlib-metadata->dash>=2.0.0->dash_bootstrap_components) (3.20.2)\n",
      "Requirement already satisfied: charset-normalizer<4,>=2 in /usr/lib/python3.13/site-packages (from requests->dash>=2.0.0->dash_bootstrap_components) (3.3.2)\n",
      "Requirement already satisfied: idna<4,>=2.5 in /usr/lib/python3.13/site-packages (from requests->dash>=2.0.0->dash_bootstrap_components) (3.7)\n",
      "Requirement already satisfied: urllib3<3,>=1.21.1 in /usr/lib/python3.13/site-packages (from requests->dash>=2.0.0->dash_bootstrap_components) (1.26.20)\n",
      "Requirement already satisfied: six>=1.7.0 in /usr/lib/python3.13/site-packages (from retrying->dash>=2.0.0->dash_bootstrap_components) (1.16.0)\n",
      "Defaulting to user installation because normal site-packages is not writeable\n",
      "Requirement already satisfied: dash in /home/ayush/.local/lib/python3.13/site-packages (2.18.2)\n",
      "Requirement already satisfied: dash-core-components in /home/ayush/.local/lib/python3.13/site-packages (2.0.0)\n",
      "Requirement already satisfied: dash-html-components in /home/ayush/.local/lib/python3.13/site-packages (2.0.0)\n",
      "Requirement already satisfied: dash-cytoscape in /home/ayush/.local/lib/python3.13/site-packages (1.0.2)\n",
      "Requirement already satisfied: networkx in /home/ayush/.local/lib/python3.13/site-packages (3.4.2)\n",
      "Requirement already satisfied: Flask<3.1,>=1.0.4 in /home/ayush/.local/lib/python3.13/site-packages (from dash) (3.0.3)\n",
      "Requirement already satisfied: Werkzeug<3.1 in /home/ayush/.local/lib/python3.13/site-packages (from dash) (3.0.6)\n",
      "Requirement already satisfied: plotly>=5.0.0 in /home/ayush/.local/lib/python3.13/site-packages (from dash) (5.24.1)\n",
      "Requirement already satisfied: dash-table==5.0.0 in /home/ayush/.local/lib/python3.13/site-packages (from dash) (5.0.0)\n",
      "Requirement already satisfied: importlib-metadata in /home/ayush/.local/lib/python3.13/site-packages (from dash) (8.5.0)\n",
      "Requirement already satisfied: typing-extensions>=4.1.1 in /home/ayush/.local/lib/python3.13/site-packages (from dash) (4.12.2)\n",
      "Requirement already satisfied: requests in /usr/lib/python3.13/site-packages (from dash) (2.32.3)\n",
      "Requirement already satisfied: retrying in /home/ayush/.local/lib/python3.13/site-packages (from dash) (1.3.4)\n",
      "Requirement already satisfied: nest-asyncio in /home/ayush/.local/lib/python3.13/site-packages (from dash) (1.6.0)\n",
      "Requirement already satisfied: setuptools in /usr/lib/python3.13/site-packages (from dash) (69.2.0)\n",
      "Requirement already satisfied: Jinja2>=3.1.2 in /home/ayush/.local/lib/python3.13/site-packages (from Flask<3.1,>=1.0.4->dash) (3.1.4)\n",
      "Requirement already satisfied: itsdangerous>=2.1.2 in /home/ayush/.local/lib/python3.13/site-packages (from Flask<3.1,>=1.0.4->dash) (2.2.0)\n",
      "Requirement already satisfied: click>=8.1.3 in /usr/lib/python3.13/site-packages (from Flask<3.1,>=1.0.4->dash) (8.1.7)\n",
      "Requirement already satisfied: blinker>=1.6.2 in /home/ayush/.local/lib/python3.13/site-packages (from Flask<3.1,>=1.0.4->dash) (1.8.2)\n",
      "Requirement already satisfied: tenacity>=6.2.0 in /home/ayush/.local/lib/python3.13/site-packages (from plotly>=5.0.0->dash) (9.0.0)\n",
      "Requirement already satisfied: packaging in /usr/lib/python3.13/site-packages (from plotly>=5.0.0->dash) (24.1)\n",
      "Requirement already satisfied: MarkupSafe>=2.1.1 in /usr/lib64/python3.13/site-packages (from Werkzeug<3.1->dash) (2.1.5)\n",
      "Requirement already satisfied: zipp>=3.20 in /home/ayush/.local/lib/python3.13/site-packages (from importlib-metadata->dash) (3.20.2)\n",
      "Requirement already satisfied: charset-normalizer<4,>=2 in /usr/lib/python3.13/site-packages (from requests->dash) (3.3.2)\n",
      "Requirement already satisfied: idna<4,>=2.5 in /usr/lib/python3.13/site-packages (from requests->dash) (3.7)\n",
      "Requirement already satisfied: urllib3<3,>=1.21.1 in /usr/lib/python3.13/site-packages (from requests->dash) (1.26.20)\n",
      "Requirement already satisfied: six>=1.7.0 in /usr/lib/python3.13/site-packages (from retrying->dash) (1.16.0)\n"
     ]
    }
   ],
   "source": [
    "!pip install pandas\n",
    "!pip install networkx\n",
    "!pip install matplotlib\n",
    "!pip install scipy\n",
    "!pip install dash_bootstrap_components\n",
    "!pip install dash dash-core-components dash-html-components dash-cytoscape networkx"
   ]
  },
  {
   "cell_type": "code",
   "execution_count": 20,
   "id": "a1a3eccb-8bd5-4ea2-9243-f6f0863c1534",
   "metadata": {},
   "outputs": [],
   "source": [
    "import pandas as pd\n",
    "import networkx as nx\n",
    "import matplotlib.pyplot as plt\n",
    "import random"
   ]
  },
  {
   "cell_type": "code",
   "execution_count": 21,
   "id": "e8d7eb49-8945-499c-8a1e-136920669ce4",
   "metadata": {},
   "outputs": [],
   "source": [
    "def load_adjacency_list(csv_file):\n",
    "    # Read the CSV file into a pandas DataFrame\n",
    "    df = pd.read_csv(csv_file)\n",
    "    # Convert the DataFrame to a list of tuples\n",
    "    edges = [tuple(x) for x in df.values]\n",
    "    return edges"
   ]
  },
  {
   "cell_type": "code",
   "execution_count": 22,
   "id": "d3525e2a-d1e1-44ad-bac9-adb45845c8f7",
   "metadata": {},
   "outputs": [],
   "source": [
    "def create_graph_from_adj_list(edges):\n",
    "    # Create a NetworkX graph from the adjacency list\n",
    "    G = nx.Graph()\n",
    "    G.add_edges_from(edges)\n",
    "    return G"
   ]
  },
  {
   "cell_type": "code",
   "execution_count": 23,
   "id": "011e20bc-f3a5-4d42-80d8-f4abdf613f96",
   "metadata": {},
   "outputs": [],
   "source": [
    "csv_file = \"roads-usroads/edges.csv\"\n",
    "edges = load_adjacency_list(csv_file)\n",
    "G = create_graph_from_adj_list(edges)"
   ]
  },
  {
   "cell_type": "code",
   "execution_count": 24,
   "id": "72c1d31a-054f-41c9-a595-615bd5feed6e",
   "metadata": {},
   "outputs": [
    {
     "name": "stdout",
     "output_type": "stream",
     "text": [
      "Number of nodes: 129163\n",
      "Number of edges: 165434\n"
     ]
    }
   ],
   "source": [
    "print(f\"Number of nodes: {G.number_of_nodes()}\")\n",
    "print(f\"Number of edges: {G.number_of_edges()}\")"
   ]
  },
  {
   "cell_type": "code",
   "execution_count": 25,
   "id": "780ca8bf-9265-4b9b-9070-a583de5d2671",
   "metadata": {},
   "outputs": [],
   "source": [
    "# Function to get the largest connected component\n",
    "def get_largest_connected_component(G):\n",
    "    largest_cc = max(nx.connected_components(G), key=len)\n",
    "    largest_subgraph = G.subgraph(largest_cc)\n",
    "    return largest_subgraph"
   ]
  },
  {
   "cell_type": "code",
   "execution_count": 26,
   "id": "daa98e26-d14f-4cb8-aef6-49fbd941c2c2",
   "metadata": {},
   "outputs": [],
   "source": [
    "# Function to sample nodes from the largest connected component\n",
    "def sample_largest_connected_component(largest_subgraph, node_sample_size):\n",
    "    nodes_list = list(largest_subgraph.nodes())\n",
    "    if len(nodes_list) > node_sample_size:\n",
    "        sampled_nodes = random.sample(nodes_list, node_sample_size)\n",
    "        subgraph_sample = largest_subgraph.subgraph(sampled_nodes)\n",
    "    else:\n",
    "        subgraph_sample = largest_subgraph\n",
    "\n",
    "    if not nx.is_connected(subgraph_sample):\n",
    "        largest_sample_cc = max(nx.connected_components(subgraph_sample), key=len)\n",
    "        subgraph_sample = subgraph_sample.subgraph(largest_sample_cc)\n",
    "\n",
    "    return subgraph_sample"
   ]
  },
  {
   "cell_type": "code",
   "execution_count": 27,
   "id": "2d32e01b",
   "metadata": {},
   "outputs": [],
   "source": [
    "# Function to calculate shortest path lengths and return all-pair shortest paths\n",
    "def get_shortest_paths(subgraph_sample):\n",
    "    path_lengths = dict(nx.shortest_path_length(subgraph_sample))\n",
    "    shortest_paths = []\n",
    "\n",
    "    for node, lengths in path_lengths.items():\n",
    "        shortest_paths.extend(list(lengths.values()))\n",
    "    \n",
    "    return shortest_paths"
   ]
  },
  {
   "cell_type": "code",
   "execution_count": 28,
   "id": "fc5039d7-3bac-4ef2-bb2d-77d85e5b3c46",
   "metadata": {},
   "outputs": [],
   "source": [
    "# Function to calculate graph metrics (diameter, average path length, and shortest path)\n",
    "def calculate_graph_metrics(subgraph_sample):\n",
    "    if nx.is_connected(subgraph_sample):\n",
    "        diameter = nx.diameter(subgraph_sample)\n",
    "        avg_path_length = nx.average_shortest_path_length(subgraph_sample)\n",
    "        node1, node2 = random.sample(list(subgraph_sample.nodes()), 2)\n",
    "        shortest_path_length = nx.shortest_path_length(subgraph_sample, source=node1, target=node2)\n",
    "        print(f\"Diameter of the subgraph: {diameter}\")\n",
    "        print(f\"Average Path Length of the subgraph: {avg_path_length}\")\n",
    "        print(f\"Shortest path between {node1} and {node2}: {shortest_path_length}\")\n",
    "    else:\n",
    "        print(\"The sampled subgraph is not connected.\")"
   ]
  },
  {
   "cell_type": "code",
   "execution_count": 29,
   "id": "e7ba9d4c",
   "metadata": {},
   "outputs": [],
   "source": [
    "# Get the largest connected component\n",
    "largest_subgraph = get_largest_connected_component(G)\n",
    "    \n",
    "# Sample the largest connected component\n",
    "subgraph_sample = sample_largest_connected_component(largest_subgraph, 10000)"
   ]
  },
  {
   "cell_type": "code",
   "execution_count": 27,
   "id": "ed1d516c",
   "metadata": {},
   "outputs": [
    {
     "name": "stdout",
     "output_type": "stream",
     "text": [
      "Diameter of the subgraph: 610\n",
      "Average Path Length of the subgraph: 225.2216546381362\n",
      "Shortest path between 22814 and 51840: 368\n"
     ]
    }
   ],
   "source": [
    "calculate_graph_metrics(subgraph_sample)"
   ]
  },
  {
   "cell_type": "code",
   "execution_count": 30,
   "id": "eeae664e",
   "metadata": {},
   "outputs": [
    {
     "data": {
      "text/html": [
       "\n",
       "        <iframe\n",
       "            width=\"100%\"\n",
       "            height=\"650\"\n",
       "            src=\"http://127.0.0.1:8050/\"\n",
       "            frameborder=\"0\"\n",
       "            allowfullscreen\n",
       "            \n",
       "        ></iframe>\n",
       "        "
      ],
      "text/plain": [
       "<IPython.lib.display.IFrame at 0x7f3a1d9fae40>"
      ]
     },
     "metadata": {},
     "output_type": "display_data"
    }
   ],
   "source": [
    "import dash\n",
    "from dash import dcc, html\n",
    "from dash.dependencies import Input, Output\n",
    "import dash_cytoscape as cyto\n",
    "import networkx as nx\n",
    "import random\n",
    "\n",
    "# Create a random graph using NetworkX\n",
    "def generate_graph(node_sample_size=100):\n",
    "    # Generate a random graph\n",
    "    G = nx.erdos_renyi_graph(500, 0.05)\n",
    "    largest_cc = max(nx.connected_components(G), key=len)\n",
    "    largest_subgraph = G.subgraph(largest_cc)\n",
    "    \n",
    "    nodes_list = list(largest_subgraph.nodes())\n",
    "    \n",
    "    if len(nodes_list) > node_sample_size:\n",
    "        sampled_nodes = random.sample(nodes_list, node_sample_size)\n",
    "        sampled_subgraph = largest_subgraph.subgraph(sampled_nodes)\n",
    "    else:\n",
    "        sampled_subgraph = largest_subgraph\n",
    "\n",
    "    elements = []\n",
    "    \n",
    "    # Create nodes and edges for Cytoscape\n",
    "    for node in sampled_subgraph.nodes:\n",
    "        elements.append({\n",
    "            'data': {'id': str(node), 'label': f'Node {node}'},\n",
    "            'position': {'x': random.randint(0, 800), 'y': random.randint(0, 800)},\n",
    "            'classes': 'node'\n",
    "        })\n",
    "    for edge in sampled_subgraph.edges:\n",
    "        elements.append({'data': {'source': str(edge[0]), 'target': str(edge[1])}})\n",
    "    \n",
    "    return elements\n",
    "\n",
    "# Initialize the Dash app\n",
    "app = dash.Dash(__name__)\n",
    "\n",
    "# Define the app layout\n",
    "app.layout = html.Div([\n",
    "    html.H1(\"Dynamic Graph Dashboard\"),\n",
    "    \n",
    "    # Slider for selecting the number of nodes\n",
    "    html.Div([\n",
    "        html.Label('Select number of nodes:'),\n",
    "        dcc.Slider(\n",
    "            id='node-slider',\n",
    "            min=10,\n",
    "            max=500,\n",
    "            step=10,\n",
    "            value=100,\n",
    "            marks={i: f'{i}' for i in range(10, 501, 50)}\n",
    "        )\n",
    "    ], style={'width': '50%', 'margin': '20px'}),\n",
    "    \n",
    "    # Cytoscape graph component\n",
    "    cyto.Cytoscape(\n",
    "        id='network-graph',\n",
    "        layout={'name': 'preset'},  # 'preset' lets you use random positioning\n",
    "        style={'width': '100%', 'height': '600px'},\n",
    "        elements=generate_graph(),\n",
    "        stylesheet=[\n",
    "            {\n",
    "                'selector': 'node',\n",
    "                'style': {\n",
    "                    'background-color': '#333333',\n",
    "                    'label': 'data(label)',\n",
    "                    'font-size': '10px',\n",
    "                    'color': '#FF0000'  # Red color for node labels\n",
    "                }\n",
    "            },\n",
    "            {\n",
    "                'selector': 'edge',\n",
    "                'style': {\n",
    "                    'line-color': '#555555',\n",
    "                    'width': 2\n",
    "                }\n",
    "            }\n",
    "        ]\n",
    "    )\n",
    "])\n",
    "\n",
    "# Define the callback to update the graph based on the slider input\n",
    "@app.callback(\n",
    "    Output('network-graph', 'elements'),\n",
    "    [Input('node-slider', 'value')]\n",
    ")\n",
    "def update_graph(node_sample_size):\n",
    "    return generate_graph(node_sample_size)\n",
    "\n",
    "# Run the app\n",
    "if __name__ == '__main__':\n",
    "    app.run_server(debug=True)"
   ]
  },
  {
   "cell_type": "code",
   "execution_count": 13,
   "id": "d1a8641e",
   "metadata": {},
   "outputs": [],
   "source": [
    "def k_shortest_paths(subgraph_sample, k):\n",
    "    # Randomly choose source and destination from subgraph\n",
    "    nodes = list(subgraph_sample.nodes())\n",
    "    source, target = random.sample(nodes, 2)  # Pick two distinct nodes\n",
    "    \n",
    "    try:\n",
    "        paths = list(nx.shortest_simple_paths(subgraph_sample, source, target))[:k]\n",
    "        return source, target, paths\n",
    "    except nx.NetworkXNoPath:\n",
    "        return source, target, []"
   ]
  },
  {
   "cell_type": "code",
   "execution_count": 15,
   "id": "f239da40",
   "metadata": {},
   "outputs": [
    {
     "name": "stdout",
     "output_type": "stream",
     "text": [
      "Source: 22797, Target: 22329\n",
      "K-Shortest Paths: [[np.int64(22797), np.int64(22830), np.int64(22329)]]\n"
     ]
    }
   ],
   "source": [
    "# Get random k-shortest paths\n",
    "source, target, k_paths = k_shortest_paths(subgraph_sample, 5)\n",
    "\n",
    "print(f\"Source: {source}, Target: {target}\")\n",
    "print(f\"K-Shortest Paths: {k_paths}\")"
   ]
  },
  {
   "cell_type": "code",
   "execution_count": null,
   "id": "9fbbd2e0",
   "metadata": {},
   "outputs": [],
   "source": []
  }
 ],
 "metadata": {
  "kernelspec": {
   "display_name": "usr",
   "language": "python",
   "name": "python3"
  },
  "language_info": {
   "codemirror_mode": {
    "name": "ipython",
    "version": 3
   },
   "file_extension": ".py",
   "mimetype": "text/x-python",
   "name": "python",
   "nbconvert_exporter": "python",
   "pygments_lexer": "ipython3",
   "version": "3.13.0"
  }
 },
 "nbformat": 4,
 "nbformat_minor": 5
}
